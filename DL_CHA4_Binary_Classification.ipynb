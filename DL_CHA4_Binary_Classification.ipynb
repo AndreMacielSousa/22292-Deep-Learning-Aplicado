{
  "nbformat": 4,
  "nbformat_minor": 0,
  "metadata": {
    "colab": {
      "provenance": [],
      "authorship_tag": "ABX9TyOXXsk6KxC9HrRqRqWqOvmb",
      "include_colab_link": true
    },
    "kernelspec": {
      "name": "python3",
      "display_name": "Python 3"
    },
    "language_info": {
      "name": "python"
    },
    "accelerator": "GPU"
  },
  "cells": [
    {
      "cell_type": "markdown",
      "metadata": {
        "id": "view-in-github",
        "colab_type": "text"
      },
      "source": [
        "<a href=\"https://colab.research.google.com/github/AndreMacielSousa/22292-Deep-Learning-Aplicado/blob/main/DL_CHA4_Binary_Classification.ipynb\" target=\"_parent\"><img src=\"https://colab.research.google.com/assets/colab-badge.svg\" alt=\"Open In Colab\"/></a>"
      ]
    },
    {
      "cell_type": "markdown",
      "source": [
        "\n",
        "**Deep Learning SIMPLIFIED**\n",
        "\n",
        "https://www.youtube.com/watch?v=EzbGiB_6TSI&list=PLjJh1vlSEYgvGod9wWiydumYl8hOXixNu&index=13&ab_channel=DeepLearning.TV\n",
        "\n",
        "\n",
        "**Machine Learning with Python**\n",
        "\n",
        "https://www.freecodecamp.org/learn/machine-learning-with-python/\n",
        "\n",
        "**TensorFlow**\n",
        "\n",
        "https://colab.research.google.com/drive/1F_EWVKa8rbMXi3_fG0w7AtcscFq7Hi7B\n",
        "\n",
        "\n"
      ],
      "metadata": {
        "id": "3hnGzrqK2nJl"
      }
    },
    {
      "cell_type": "markdown",
      "source": [
        "\n",
        "\n",
        "---\n",
        "\n",
        "\n",
        "\n",
        "**Listing 4.1 Loading the IMDB dataset**\n",
        "\n"
      ],
      "metadata": {
        "id": "-zqAbr9HH8Rz"
      }
    },
    {
      "cell_type": "code",
      "source": [
        "from tensorflow.keras.datasets import imdb\n",
        "(train_data, train_labels), (test_data, test_labels) = imdb.load_data(\n",
        " num_words=10000)"
      ],
      "metadata": {
        "id": "Rxyy-eKhavAn"
      },
      "execution_count": 3,
      "outputs": []
    },
    {
      "cell_type": "code",
      "source": [
        "train_data[0]"
      ],
      "metadata": {
        "id": "TOH4K4txbe1v",
        "colab": {
          "base_uri": "https://localhost:8080/"
        },
        "outputId": "0ec260d4-5a06-4723-ffdd-c575290cfe3c"
      },
      "execution_count": 4,
      "outputs": [
        {
          "output_type": "execute_result",
          "data": {
            "text/plain": [
              "[1,\n",
              " 14,\n",
              " 22,\n",
              " 16,\n",
              " 43,\n",
              " 530,\n",
              " 973,\n",
              " 1622,\n",
              " 1385,\n",
              " 65,\n",
              " 458,\n",
              " 4468,\n",
              " 66,\n",
              " 3941,\n",
              " 4,\n",
              " 173,\n",
              " 36,\n",
              " 256,\n",
              " 5,\n",
              " 25,\n",
              " 100,\n",
              " 43,\n",
              " 838,\n",
              " 112,\n",
              " 50,\n",
              " 670,\n",
              " 2,\n",
              " 9,\n",
              " 35,\n",
              " 480,\n",
              " 284,\n",
              " 5,\n",
              " 150,\n",
              " 4,\n",
              " 172,\n",
              " 112,\n",
              " 167,\n",
              " 2,\n",
              " 336,\n",
              " 385,\n",
              " 39,\n",
              " 4,\n",
              " 172,\n",
              " 4536,\n",
              " 1111,\n",
              " 17,\n",
              " 546,\n",
              " 38,\n",
              " 13,\n",
              " 447,\n",
              " 4,\n",
              " 192,\n",
              " 50,\n",
              " 16,\n",
              " 6,\n",
              " 147,\n",
              " 2025,\n",
              " 19,\n",
              " 14,\n",
              " 22,\n",
              " 4,\n",
              " 1920,\n",
              " 4613,\n",
              " 469,\n",
              " 4,\n",
              " 22,\n",
              " 71,\n",
              " 87,\n",
              " 12,\n",
              " 16,\n",
              " 43,\n",
              " 530,\n",
              " 38,\n",
              " 76,\n",
              " 15,\n",
              " 13,\n",
              " 1247,\n",
              " 4,\n",
              " 22,\n",
              " 17,\n",
              " 515,\n",
              " 17,\n",
              " 12,\n",
              " 16,\n",
              " 626,\n",
              " 18,\n",
              " 2,\n",
              " 5,\n",
              " 62,\n",
              " 386,\n",
              " 12,\n",
              " 8,\n",
              " 316,\n",
              " 8,\n",
              " 106,\n",
              " 5,\n",
              " 4,\n",
              " 2223,\n",
              " 5244,\n",
              " 16,\n",
              " 480,\n",
              " 66,\n",
              " 3785,\n",
              " 33,\n",
              " 4,\n",
              " 130,\n",
              " 12,\n",
              " 16,\n",
              " 38,\n",
              " 619,\n",
              " 5,\n",
              " 25,\n",
              " 124,\n",
              " 51,\n",
              " 36,\n",
              " 135,\n",
              " 48,\n",
              " 25,\n",
              " 1415,\n",
              " 33,\n",
              " 6,\n",
              " 22,\n",
              " 12,\n",
              " 215,\n",
              " 28,\n",
              " 77,\n",
              " 52,\n",
              " 5,\n",
              " 14,\n",
              " 407,\n",
              " 16,\n",
              " 82,\n",
              " 2,\n",
              " 8,\n",
              " 4,\n",
              " 107,\n",
              " 117,\n",
              " 5952,\n",
              " 15,\n",
              " 256,\n",
              " 4,\n",
              " 2,\n",
              " 7,\n",
              " 3766,\n",
              " 5,\n",
              " 723,\n",
              " 36,\n",
              " 71,\n",
              " 43,\n",
              " 530,\n",
              " 476,\n",
              " 26,\n",
              " 400,\n",
              " 317,\n",
              " 46,\n",
              " 7,\n",
              " 4,\n",
              " 2,\n",
              " 1029,\n",
              " 13,\n",
              " 104,\n",
              " 88,\n",
              " 4,\n",
              " 381,\n",
              " 15,\n",
              " 297,\n",
              " 98,\n",
              " 32,\n",
              " 2071,\n",
              " 56,\n",
              " 26,\n",
              " 141,\n",
              " 6,\n",
              " 194,\n",
              " 7486,\n",
              " 18,\n",
              " 4,\n",
              " 226,\n",
              " 22,\n",
              " 21,\n",
              " 134,\n",
              " 476,\n",
              " 26,\n",
              " 480,\n",
              " 5,\n",
              " 144,\n",
              " 30,\n",
              " 5535,\n",
              " 18,\n",
              " 51,\n",
              " 36,\n",
              " 28,\n",
              " 224,\n",
              " 92,\n",
              " 25,\n",
              " 104,\n",
              " 4,\n",
              " 226,\n",
              " 65,\n",
              " 16,\n",
              " 38,\n",
              " 1334,\n",
              " 88,\n",
              " 12,\n",
              " 16,\n",
              " 283,\n",
              " 5,\n",
              " 16,\n",
              " 4472,\n",
              " 113,\n",
              " 103,\n",
              " 32,\n",
              " 15,\n",
              " 16,\n",
              " 5345,\n",
              " 19,\n",
              " 178,\n",
              " 32]"
            ]
          },
          "metadata": {},
          "execution_count": 4
        }
      ]
    },
    {
      "cell_type": "code",
      "source": [
        "train_labels[0]"
      ],
      "metadata": {
        "colab": {
          "base_uri": "https://localhost:8080/"
        },
        "id": "aMB5eFXXbl_n",
        "outputId": "cbffeca4-a2ac-414f-dfb1-892e05970a99"
      },
      "execution_count": 5,
      "outputs": [
        {
          "output_type": "execute_result",
          "data": {
            "text/plain": [
              "1"
            ]
          },
          "metadata": {},
          "execution_count": 5
        }
      ]
    },
    {
      "cell_type": "markdown",
      "source": [
        "Because we’re restricting ourselves to the top 10,000 most frequent words, no word\n",
        "index will exceed 10,000:"
      ],
      "metadata": {
        "id": "3Vrcp-4ibtu-"
      }
    },
    {
      "cell_type": "code",
      "source": [
        "max([max(sequence) for sequence in train_data])"
      ],
      "metadata": {
        "colab": {
          "base_uri": "https://localhost:8080/"
        },
        "id": "F5yGx8WhbwdO",
        "outputId": "7799fc78-ee83-4c5b-c06b-87255a904920"
      },
      "execution_count": 6,
      "outputs": [
        {
          "output_type": "execute_result",
          "data": {
            "text/plain": [
              "9999"
            ]
          },
          "metadata": {},
          "execution_count": 6
        }
      ]
    },
    {
      "cell_type": "markdown",
      "source": [
        "\n",
        "\n",
        "---\n",
        "\n",
        "\n",
        "**Listing 4.2 Decoding reviews back to text**"
      ],
      "metadata": {
        "id": "zPsfovELedU-"
      }
    },
    {
      "cell_type": "code",
      "source": [
        "word_index = imdb.get_word_index() \n",
        "reverse_word_index = dict(\n",
        " [(value, key) for (key, value) in word_index.items()])\n",
        "decoded_review = \" \".join(\n",
        " [reverse_word_index.get(i - 3, \"?\") for i in train_data[0]]) \n"
      ],
      "metadata": {
        "id": "UX2iI9eaegIv"
      },
      "execution_count": 7,
      "outputs": []
    },
    {
      "cell_type": "markdown",
      "source": [
        "\n",
        "\n",
        "---\n",
        "**Listing 4.3 Encoding the integer sequences via multi-hot encoding**\n",
        "\n",
        "You can’t directly feed lists of integers into a neural network. They all have different\n",
        "lengths, but a neural network expects to process contiguous batches of data. You have\n",
        "to turn your lists into tensors. There are two ways to do that:\n",
        "\n",
        "* Pad your lists so that they all have the same length, turn them into an integer\n",
        "tensor of shape (samples, max_length), and start your model with a layer capable of handling such integer tensors (the Embedding layer, which we’ll cover in\n",
        "detail later in the book).\n",
        "* Multi-hot encode your lists to turn them into vectors of 0s and 1s. This would\n",
        "mean, for instance, turning the sequence [8, 5] into a 10,000-dimensional vector that would be all 0s except for indices 8 and 5, which would be 1s. Then you\n",
        "could use a Dense layer, capable of handling floating-point vector data, as the\n",
        "first layer in your model.\n",
        "\n",
        "Let’s go with the latter solution to vectorize the data, which you’ll do manually for\n",
        "maximum clarity.\n"
      ],
      "metadata": {
        "id": "06G46Y0Sjj1S"
      }
    },
    {
      "cell_type": "code",
      "source": [
        "import numpy as np \n",
        "def vectorize_sequences(sequences, dimension=10000): \n",
        "  results = np.zeros((len(sequences), dimension))\n",
        "  for i, sequence in enumerate(sequences):\n",
        "    for j in sequence:\n",
        "      results[i, j] = 1. \n",
        "  return results\n",
        "x_train = vectorize_sequences(train_data) \n",
        "x_test = vectorize_sequences(test_data)\n",
        "#Exemplo:\n",
        "x_train[0]\n",
        "# Vectorize\n",
        "y_train = np.asarray(train_labels).astype(\"float32\")\n",
        "y_test = np.asarray(test_labels).astype(\"float32\")\n"
      ],
      "metadata": {
        "id": "ghmFVLIbl94q"
      },
      "execution_count": 8,
      "outputs": []
    },
    {
      "cell_type": "markdown",
      "source": [
        "Now the data is ready to be fed into a neural network. \n"
      ],
      "metadata": {
        "id": "dC1PeMkinZqC"
      }
    },
    {
      "cell_type": "markdown",
      "source": [
        "\n",
        "\n",
        "---\n",
        "**Listing 4.4 Model definition**\n",
        "\n",
        "![Captura de ecrã 2022-10-22 175808.png](data:image/png;base64,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)\n",
        "\n"
      ],
      "metadata": {
        "id": "RUwBwSB7ntQU"
      }
    },
    {
      "cell_type": "code",
      "source": [
        "from tensorflow import keras \n",
        "from tensorflow.keras import layers\n",
        "model = keras.Sequential([\n",
        " layers.Dense(16, activation=\"relu\"),\n",
        " layers.Dense(16, activation=\"relu\"),\n",
        " layers.Dense(1, activation=\"sigmoid\")\n",
        "])"
      ],
      "metadata": {
        "id": "PmrPP8TlnyI3"
      },
      "execution_count": 9,
      "outputs": []
    },
    {
      "cell_type": "markdown",
      "source": [
        "\n",
        "\n",
        "---\n",
        "**Listing 4.5 Compiling the model**\n",
        "\n",
        "Finally, you need to choose a loss function and an optimizer. Because you’re facing a\n",
        "binary classification problem and the output of your model is a probability (you end\n",
        "your model with a single-unit layer with a sigmoid activation), it’s best to use the\n",
        "*binary_crossentropy* loss. It isn’t the only viable choice: for instance, you could use\n",
        "*mean_squared_error*. But crossentropy is usually the best choice when you’re dealing with models that output probabilities. *Crossentropy* is a quantity from the field of information theory that measures the distance between probability distributions or, in this\n",
        "case, between the ground-truth distribution and your predictions.\n",
        "\n",
        "As for the choice of the optimizer, we’ll go with *rmsprop*, which is a usually a good\n",
        "default choice for virtually any problem.\n",
        "\n",
        "Here’s the step where we configure the model with the *rmsprop* optimizer and\n",
        "the *binary_crossentropy* loss function. Note that we’ll also monitor accuracy during\n",
        "training. \n",
        "\n"
      ],
      "metadata": {
        "id": "Jy0zNZGOpy96"
      }
    },
    {
      "cell_type": "code",
      "source": [
        "model.compile(optimizer=\"rmsprop\",\n",
        " loss=\"binary_crossentropy\",\n",
        " metrics=[\"accuracy\"])"
      ],
      "metadata": {
        "id": "6p80ZAC-p2D9"
      },
      "execution_count": 10,
      "outputs": []
    },
    {
      "cell_type": "markdown",
      "source": [
        "\n",
        "\n",
        "---\n",
        "**Listing 4.6 Setting aside a validation set**\n",
        "\n",
        "a deep learning model should never be evaluated on its\n",
        "training data—it’s standard practice to use a validation set to monitor the accuracy of\n",
        "the model during training. Here, we’ll create a validation set by setting apart 10,000\n",
        "samples from the original training data.\n"
      ],
      "metadata": {
        "id": "-3JkzeLSrNK4"
      }
    },
    {
      "cell_type": "code",
      "source": [
        "x_val = x_train[:10000]\n",
        "partial_x_train = x_train[10000:]\n",
        "y_val = y_train[:10000]\n",
        "partial_y_train = y_train[10000:]"
      ],
      "metadata": {
        "id": "fHsfzb9JrkZc"
      },
      "execution_count": 11,
      "outputs": []
    },
    {
      "cell_type": "markdown",
      "source": [
        "\n",
        "\n",
        "---\n",
        "\n",
        "**Listing 4.7 Training your model**\n",
        "\n",
        "We will now train the model for 20 epochs (20 iterations over all samples in the train\u0002ing data) in mini-batches of 512 samples. At the same time, we will monitor loss and\n",
        "accuracy on the 10,000 samples that we set apart. We do so by passing the validation\n",
        "data as the *validation_data* argument.\n"
      ],
      "metadata": {
        "id": "rCOnPE3-rs4i"
      }
    },
    {
      "cell_type": "code",
      "source": [
        "history = model.fit(partial_x_train,\n",
        " partial_y_train,\n",
        " epochs=20,\n",
        " batch_size=512,\n",
        " validation_data=(x_val, y_val))"
      ],
      "metadata": {
        "colab": {
          "base_uri": "https://localhost:8080/"
        },
        "id": "OHzT7GNer4ux",
        "outputId": "8024579a-8715-4393-a8a1-93862c0d25ca"
      },
      "execution_count": 12,
      "outputs": [
        {
          "output_type": "stream",
          "name": "stdout",
          "text": [
            "Epoch 1/20\n",
            "30/30 [==============================] - 4s 46ms/step - loss: 0.5006 - accuracy: 0.7884 - val_loss: 0.3754 - val_accuracy: 0.8747\n",
            "Epoch 2/20\n",
            "30/30 [==============================] - 1s 25ms/step - loss: 0.3006 - accuracy: 0.9040 - val_loss: 0.3038 - val_accuracy: 0.8873\n",
            "Epoch 3/20\n",
            "30/30 [==============================] - 1s 23ms/step - loss: 0.2177 - accuracy: 0.9299 - val_loss: 0.2983 - val_accuracy: 0.8810\n",
            "Epoch 4/20\n",
            "30/30 [==============================] - 1s 22ms/step - loss: 0.1716 - accuracy: 0.9453 - val_loss: 0.2746 - val_accuracy: 0.8884\n",
            "Epoch 5/20\n",
            "30/30 [==============================] - 1s 22ms/step - loss: 0.1395 - accuracy: 0.9571 - val_loss: 0.2810 - val_accuracy: 0.8868\n",
            "Epoch 6/20\n",
            "30/30 [==============================] - 1s 25ms/step - loss: 0.1112 - accuracy: 0.9676 - val_loss: 0.2994 - val_accuracy: 0.8856\n",
            "Epoch 7/20\n",
            "30/30 [==============================] - 1s 23ms/step - loss: 0.0963 - accuracy: 0.9727 - val_loss: 0.3106 - val_accuracy: 0.8849\n",
            "Epoch 8/20\n",
            "30/30 [==============================] - 1s 22ms/step - loss: 0.0750 - accuracy: 0.9805 - val_loss: 0.3431 - val_accuracy: 0.8761\n",
            "Epoch 9/20\n",
            "30/30 [==============================] - 1s 23ms/step - loss: 0.0667 - accuracy: 0.9803 - val_loss: 0.3517 - val_accuracy: 0.8798\n",
            "Epoch 10/20\n",
            "30/30 [==============================] - 1s 22ms/step - loss: 0.0489 - accuracy: 0.9885 - val_loss: 0.3880 - val_accuracy: 0.8769\n",
            "Epoch 11/20\n",
            "30/30 [==============================] - 1s 22ms/step - loss: 0.0403 - accuracy: 0.9920 - val_loss: 0.4123 - val_accuracy: 0.8773\n",
            "Epoch 12/20\n",
            "30/30 [==============================] - 1s 23ms/step - loss: 0.0327 - accuracy: 0.9934 - val_loss: 0.4406 - val_accuracy: 0.8741\n",
            "Epoch 13/20\n",
            "30/30 [==============================] - 1s 22ms/step - loss: 0.0276 - accuracy: 0.9939 - val_loss: 0.4687 - val_accuracy: 0.8735\n",
            "Epoch 14/20\n",
            "30/30 [==============================] - 1s 23ms/step - loss: 0.0215 - accuracy: 0.9960 - val_loss: 0.5011 - val_accuracy: 0.8694\n",
            "Epoch 15/20\n",
            "30/30 [==============================] - 1s 22ms/step - loss: 0.0159 - accuracy: 0.9975 - val_loss: 0.5317 - val_accuracy: 0.8703\n",
            "Epoch 16/20\n",
            "30/30 [==============================] - 1s 22ms/step - loss: 0.0096 - accuracy: 0.9994 - val_loss: 0.5758 - val_accuracy: 0.8662\n",
            "Epoch 17/20\n",
            "30/30 [==============================] - 1s 23ms/step - loss: 0.0118 - accuracy: 0.9982 - val_loss: 0.6080 - val_accuracy: 0.8685\n",
            "Epoch 18/20\n",
            "30/30 [==============================] - 1s 23ms/step - loss: 0.0052 - accuracy: 0.9999 - val_loss: 0.6612 - val_accuracy: 0.8679\n",
            "Epoch 19/20\n",
            "30/30 [==============================] - 1s 22ms/step - loss: 0.0096 - accuracy: 0.9980 - val_loss: 0.6752 - val_accuracy: 0.8682\n",
            "Epoch 20/20\n",
            "30/30 [==============================] - 1s 23ms/step - loss: 0.0031 - accuracy: 0.9999 - val_loss: 0.7062 - val_accuracy: 0.8659\n"
          ]
        }
      ]
    },
    {
      "cell_type": "markdown",
      "source": [
        "Note that the call to model.fit() returns a History object, as you saw in chapter 3.\n",
        "This object has a member history, which is a dictionary containing data about everything that happened during training."
      ],
      "metadata": {
        "id": "0Gi1MAKgsRoh"
      }
    },
    {
      "cell_type": "code",
      "source": [
        " history_dict = history.history\n",
        " history_dict.keys()"
      ],
      "metadata": {
        "colab": {
          "base_uri": "https://localhost:8080/"
        },
        "id": "HzwP8M71sTIR",
        "outputId": "27496152-c963-4802-a580-75aefb8e345a"
      },
      "execution_count": 13,
      "outputs": [
        {
          "output_type": "execute_result",
          "data": {
            "text/plain": [
              "dict_keys(['loss', 'accuracy', 'val_loss', 'val_accuracy'])"
            ]
          },
          "metadata": {},
          "execution_count": 13
        }
      ]
    },
    {
      "cell_type": "markdown",
      "source": [
        " In the following two listings, let’s use Matplotlib to plot\n",
        "the training and validation loss side by side"
      ],
      "metadata": {
        "id": "0AMmQDFYto88"
      }
    },
    {
      "cell_type": "markdown",
      "source": [
        "\n",
        "\n",
        "---\n",
        "\n",
        "**Listing 4.8 Plotting the training and validation loss**\n",
        "\n"
      ],
      "metadata": {
        "id": "aetKsAGEtNnR"
      }
    },
    {
      "cell_type": "code",
      "source": [
        "import matplotlib.pyplot as plt\n",
        "history_dict = history.history\n",
        "loss_values = history_dict[\"loss\"]\n",
        "val_loss_values = history_dict[\"val_loss\"]\n",
        "epochs = range(1, len(loss_values) + 1)\n",
        "plt.plot(epochs, loss_values, \"bo\", label=\"Training loss\")\n",
        "plt.plot(epochs, val_loss_values, \"b\", label=\"Validation loss\") \n",
        "plt.title(\"Training and validation loss\")\n",
        "plt.xlabel(\"Epochs\")\n",
        "plt.ylabel(\"Loss\")\n",
        "plt.legend()\n",
        "plt.show()"
      ],
      "metadata": {
        "colab": {
          "base_uri": "https://localhost:8080/",
          "height": 295
        },
        "id": "pMhxzU6LtXZ7",
        "outputId": "a89b0a1c-76a5-4f91-fbcb-796dc03bee89"
      },
      "execution_count": 14,
      "outputs": [
        {
          "output_type": "display_data",
          "data": {
            "text/plain": [
              "<Figure size 432x288 with 1 Axes>"
            ],
            "image/png": "[encoded data removed]"
          },
          "metadata": {
            "needs_background": "light"
          }
        }
      ]
    },
    {
      "cell_type": "markdown",
      "source": [
        "\n",
        "\n",
        "---\n",
        "**Listing 4.9 Plotting the training and validation accuracy**\n"
      ],
      "metadata": {
        "id": "CoNR7x2vtXzJ"
      }
    },
    {
      "cell_type": "code",
      "source": [
        "plt.clf()\n",
        "acc = history_dict[\"accuracy\"]\n",
        "val_acc = history_dict[\"val_accuracy\"]\n",
        "plt.plot(epochs, acc, \"bo\", label=\"Training acc\")\n",
        "plt.plot(epochs, val_acc, \"b\", label=\"Validation acc\")\n",
        "plt.title(\"Training and validation accuracy\")\n",
        "plt.xlabel(\"Epochs\")\n",
        "plt.ylabel(\"Accuracy\")\n",
        "plt.legend()\n",
        "plt.show()"
      ],
      "metadata": {
        "colab": {
          "base_uri": "https://localhost:8080/",
          "height": 295
        },
        "id": "g_hMkOOVtgp6",
        "outputId": "7f65baea-a508-4902-fcca-f03ff42b4e91"
      },
      "execution_count": 15,
      "outputs": [
        {
          "output_type": "display_data",
          "data": {
            "text/plain": [
              "<Figure size 432x288 with 1 Axes>"
            ],
            "image/png": "[encoded data removed]"
          },
          "metadata": {
            "needs_background": "light"
          }
        }
      ]
    },
    {
      "cell_type": "markdown",
      "source": [
        "\n",
        "\n",
        "---\n",
        "\n",
        "**Listing 4.10 Retraining a model from scratch**\n"
      ],
      "metadata": {
        "id": "idTFdYuhwONA"
      }
    },
    {
      "cell_type": "code",
      "source": [
        "model = keras.Sequential([\n",
        " layers.Dense(16, activation=\"relu\"),\n",
        " layers.Dense(16, activation=\"relu\"),\n",
        " layers.Dense(1, activation=\"sigmoid\")\n",
        "])\n",
        "model.compile(optimizer=\"rmsprop\",\n",
        " loss=\"binary_crossentropy\",\n",
        " metrics=[\"accuracy\"])\n",
        "model.fit(x_train, y_train, epochs=4, batch_size=512)\n",
        "results = model.evaluate(x_test, y_test)\n",
        "results"
      ],
      "metadata": {
        "colab": {
          "base_uri": "https://localhost:8080/"
        },
        "id": "ncRNo0APwSlc",
        "outputId": "aee469a5-bd1e-4383-d80a-583e24974583"
      },
      "execution_count": 16,
      "outputs": [
        {
          "output_type": "stream",
          "name": "stdout",
          "text": [
            "Epoch 1/4\n",
            "49/49 [==============================] - 1s 15ms/step - loss: 0.4760 - accuracy: 0.8117\n",
            "Epoch 2/4\n",
            "49/49 [==============================] - 1s 15ms/step - loss: 0.2660 - accuracy: 0.9084\n",
            "Epoch 3/4\n",
            "49/49 [==============================] - 1s 14ms/step - loss: 0.2025 - accuracy: 0.9282\n",
            "Epoch 4/4\n",
            "49/49 [==============================] - 1s 14ms/step - loss: 0.1702 - accuracy: 0.9398\n",
            "782/782 [==============================] - 3s 3ms/step - loss: 0.2918 - accuracy: 0.8860\n"
          ]
        },
        {
          "output_type": "execute_result",
          "data": {
            "text/plain": [
              "[0.2917683720588684, 0.8859999775886536]"
            ]
          },
          "metadata": {},
          "execution_count": 16
        }
      ]
    },
    {
      "cell_type": "code",
      "source": [
        "model.predict(x_test)"
      ],
      "metadata": {
        "colab": {
          "base_uri": "https://localhost:8080/"
        },
        "id": "0PipVycyxnAY",
        "outputId": "a5b5b9ad-11ba-4a88-ab72-cf75c9c04a5e"
      },
      "execution_count": 17,
      "outputs": [
        {
          "output_type": "stream",
          "name": "stdout",
          "text": [
            "782/782 [==============================] - 2s 2ms/step\n"
          ]
        },
        {
          "output_type": "execute_result",
          "data": {
            "text/plain": [
              "array([[0.19629171],\n",
              "       [0.9999486 ],\n",
              "       [0.94523764],\n",
              "       ...,\n",
              "       [0.09546987],\n",
              "       [0.06805281],\n",
              "       [0.61326486]], dtype=float32)"
            ]
          },
          "metadata": {},
          "execution_count": 17
        }
      ]
    },
    {
      "cell_type": "markdown",
      "source": [
        "\n",
        "\n",
        "\n",
        "\n",
        "\n",
        "\n",
        "\n",
        "\n",
        "\n",
        "\n",
        "\n",
        "---\n",
        "\n",
        "\n",
        "---\n",
        "\n",
        "\n",
        "Tensor Flow - Tensor"
      ],
      "metadata": {
        "id": "K1LByslsjl8L"
      }
    },
    {
      "cell_type": "code",
      "source": [
        "import tensorflow as tf\n",
        "print(tf.version)\n",
        "t = tf.zeros([5,5,5,5])\n",
        "print(t)\n",
        "\n",
        "t = tf.reshape (t, [125, -1])\n",
        "print(t)"
      ],
      "metadata": {
        "id": "g3aB079tikR0"
      },
      "execution_count": null,
      "outputs": []
    }
  ]
}