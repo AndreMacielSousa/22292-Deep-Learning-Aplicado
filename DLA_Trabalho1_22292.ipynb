{
  "cells": [
    {
      "cell_type": "markdown",
      "metadata": {
        "id": "view-in-github",
        "colab_type": "text"
      },
      "source": [
        "<a href=\"https://colab.research.google.com/github/AndreMacielSousa/22292-Deep-Learning-Aplicado/blob/main/DLA_Trabalho1_22292.ipynb\" target=\"_parent\"><img src=\"https://colab.research.google.com/assets/colab-badge.svg\" alt=\"Open In Colab\"/></a>"
      ]
    },
    {
      "cell_type": "markdown",
      "metadata": {
        "id": "3qXHLcm6OasU"
      },
      "source": [
        "# PARTE 1\n",
        "\n",
        "## Aplicação de redes neurais (neural netwoks, NN)\n",
        "\n",
        "# Skin Segmentation [link](https://archive.ics.uci.edu/ml/datasets/skin+segmentation)\n",
        "\n",
        "**Contexto:** Dataset com cores de pele de diferentes para \"ensinar\" a rede a distinguir se uma dada cor pertence a pele ou não.\n",
        "\n",
        "**Objetivo:** Distinguir cor de pele de não-pele."
      ]
    },
    {
      "cell_type": "markdown",
      "metadata": {
        "id": "L9Ku48zwLP_0"
      },
      "source": [
        "# Trabalho Deep Learning Aplicado 2022 [22292]\n",
        "\n",
        "\n",
        "André Maciel Sousa [ 1300012 ]\n",
        "\n",
        "Luís Varela [ 77713 ]\n",
        "\n"
      ]
    },
    {
      "cell_type": "markdown",
      "metadata": {
        "id": "4F2m1TY4UuGH"
      },
      "source": [
        "## Apontamentos Teóricos\n",
        "\n",
        "\n",
        "(5.2.3) The arrow of time— Se você está tentando prever o futuro dado o passado (por exemplo, o clima de amanhã, movimentos de ações e assim por diante), você não deve embaralhar seus dados aleatoriamente antes de dividi-los, porque isso criará um vazamento temporal: seu modelo efetivamente treinados em dados do futuro. Em tais situações, você deve sempre certificar-se de que todos os dados em seu conjunto de teste sejam posteriores aos dados no conjunto de treinamento.\n",
        "\n",
        "(6.) O fluxo de trabalho universal de machine learning é amplamente estruturado em três partes:\n",
        "\n",
        "1. **Define the task** - Entenda o domínio do problema e a lógica de negócios subjacente ao que o cliente solicitou. Colete um conjunto de dados, entenda o que os dados representam e escolha como você medirá o sucesso na tarefa.\n",
        "\n",
        "2. **Develop a model** — prepare seus dados para que possam ser processados por um modelo de aprendizado de máquina, selecione um protocolo de avaliação de modelo e uma linha de base simples a ser superada, treine um primeiro modelo que tenha poder de generalização e que possa se ajustar demais e, em seguida, regularize e ajuste seus model até obter o melhor desempenho de generalização possível. \n",
        "\n",
        "\n",
        "```\n",
        "  Preparar Dados -> \n",
        "  Escolher protocolo de Avaliação -> \n",
        "        * Holdout / K-Fold...\n",
        "        * Qual a parte de dados para validação?\n",
        "  Loss function -> \n",
        "        * obter poder estatístico: superar uma linha de base simples\n",
        "  Ampliar -> \n",
        "        * Overfit\n",
        "  Regularizar e ajuste\n",
        "\n",
        "```\n",
        "Fundamentals of machine learning - **Sets de Treinamento, Teste e Validação** [Capitulo 5](https://colab.research.google.com/drive/1ffbUPnolmSYYJNvnnScmtlCkhWw6ciAo?authuser=3#scrollTo=T83HqXMfiq5N&line=1&uniqifier=1)\n",
        "\n",
        "3. **Deploy the model** — Apresente seu trabalho para as partes interessadas, envie o modelo para um servidor da Web, um aplicativo móvel, uma página da Web ou um dispositivo incorporado, monitore o desempenho do modelo em estado selvagem e comece a coletar os dados necessários para criar a próxima geração modelo."
      ]
    },
    {
      "cell_type": "markdown",
      "metadata": {
        "id": "4tIxnRTNUaqm"
      },
      "source": [
        "# Modelo de previsão para a cor de pele"
      ]
    },
    {
      "cell_type": "markdown",
      "source": [
        "## Importação das bibliotecas"
      ],
      "metadata": {
        "id": "VciQtm0BMR4j"
      }
    },
    {
      "cell_type": "code",
      "source": [
        "import numpy as np\n",
        "import pandas as pd\n",
        "from tensorflow import keras \n",
        "from tensorflow.keras import layers\n",
        "from tensorflow.keras import regularizers\n",
        "import matplotlib.pyplot as plt\n",
        "DATASET_LINK = 'https://archive.ics.uci.edu/ml/machine-learning-databases/00229/Skin_NonSkin.txt'"
      ],
      "metadata": {
        "id": "a98qNU6ZMXe6"
      },
      "execution_count": null,
      "outputs": []
    },
    {
      "cell_type": "markdown",
      "source": [
        "## Carregamento dos dados do dataset"
      ],
      "metadata": {
        "id": "xa9lucQNMHi-"
      }
    },
    {
      "cell_type": "code",
      "source": [
        "#Since dataset does not have labels we added our own.\n",
        "#isSkin 1 = True, 2 = False\n",
        "skin_data = pd.read_csv(DATASET_LINK, sep=\"\\t\", header=None, names=['blue','green','red', 'isSkin'])"
      ],
      "metadata": {
        "id": "01mDmohRONNB"
      },
      "execution_count": null,
      "outputs": []
    },
    {
      "cell_type": "markdown",
      "source": [
        "## Separação dos dados de treino e validação"
      ],
      "metadata": {
        "id": "4swNLSIOUWGl"
      }
    },
    {
      "cell_type": "code",
      "source": [
        "#Validation data\n",
        "x_val_skin_data = skin_data.sample(frac=0.05)\n",
        "skin_data = skin_data.drop(x_val_skin_data.index)\n",
        "#Test data\n",
        "x_test_skin_data = skin_data.sample(frac=0.20)\n",
        "#Train data\n",
        "x_train_skin_data = skin_data.drop(x_test_skin_data.index)\n",
        "#get results to create y train and test (isSkin)\n",
        "y_train_skin_data = x_train_skin_data[\"isSkin\"].replace(2,0) #change 2 to 0\n",
        "y_test_skin_data = x_test_skin_data[\"isSkin\"].replace(2,0) #change 2 to 0\n",
        "y_val_skin_data = x_val_skin_data[\"isSkin\"].replace(2,0) #change 2 to 0\n",
        "#drop the result from x train and test (isSkin)\n",
        "x_train_skin_data = x_train_skin_data.drop([\"isSkin\"], axis=1)\n",
        "x_test_skin_data = x_test_skin_data.drop([\"isSkin\"], axis=1)\n",
        "x_val_skin_data = x_val_skin_data.drop([\"isSkin\"], axis=1)\n",
        "#temp variable\n",
        "temp_x_test_skin_data = x_test_skin_data"
      ],
      "metadata": {
        "id": "TVnepzgmUmmV"
      },
      "execution_count": null,
      "outputs": []
    },
    {
      "cell_type": "markdown",
      "source": [
        "## Normalização dos dados"
      ],
      "metadata": {
        "id": "fv7YyG-fSdT5"
      }
    },
    {
      "cell_type": "code",
      "source": [
        "mean = x_train_skin_data.mean(axis=0)\n",
        "x_train_skin_data -= mean\n",
        "std = x_train_skin_data.std(axis=0)\n",
        "x_train_skin_data /= std\n",
        "x_test_skin_data -= mean\n",
        "x_test_skin_data /= std\n",
        "\n",
        "# Vectorize Y train and test\n",
        "x_train_skin_data = np.asarray(x_train_skin_data).astype(\"float32\")\n",
        "x_test_skin_data = np.asarray(x_test_skin_data).astype(\"float32\")\n",
        "y_train_skin_data = np.asarray(y_train_skin_data).astype(\"float32\")\n",
        "y_test_skin_data = np.asarray(y_test_skin_data).astype(\"float32\")"
      ],
      "metadata": {
        "id": "E1af_Wj6XW7A"
      },
      "execution_count": null,
      "outputs": []
    },
    {
      "cell_type": "markdown",
      "source": [
        "## Criação do modelo"
      ],
      "metadata": {
        "id": "VfgPrd7UZR12"
      }
    },
    {
      "cell_type": "code",
      "source": [
        "model = keras.Sequential([\n",
        "  layers.Dense(16, activation=\"relu\"),\n",
        "  #layers.Dropout(0.5),\n",
        "  layers.Dense(1, activation=\"relu\"),\n",
        "  #layers.Dropout(0.5),\n",
        "  layers.Dense(1, activation=\"sigmoid\")\n",
        "])"
      ],
      "metadata": {
        "id": "rP6DbM2tadv1"
      },
      "execution_count": null,
      "outputs": []
    },
    {
      "cell_type": "markdown",
      "source": [
        "## Compilação do modelo"
      ],
      "metadata": {
        "id": "hUfw65HUdXzy"
      }
    },
    {
      "cell_type": "code",
      "source": [
        "model.build((None, 3))\n",
        "model.summary()"
      ],
      "metadata": {
        "colab": {
          "base_uri": "https://localhost:8080/"
        },
        "id": "V3jt-DR3gYNN",
        "outputId": "7da5251a-23bf-41f3-c555-fc770a7bc9cb"
      },
      "execution_count": null,
      "outputs": [
        {
          "output_type": "stream",
          "name": "stdout",
          "text": [
            "Model: \"sequential_1\"\n",
            "_________________________________________________________________\n",
            " Layer (type)                Output Shape              Param #   \n",
            "=================================================================\n",
            " dense_3 (Dense)             (None, 16)                64        \n",
            "                                                                 \n",
            " dense_4 (Dense)             (None, 1)                 17        \n",
            "                                                                 \n",
            " dense_5 (Dense)             (None, 1)                 2         \n",
            "                                                                 \n",
            "=================================================================\n",
            "Total params: 83\n",
            "Trainable params: 83\n",
            "Non-trainable params: 0\n",
            "_________________________________________________________________\n"
          ]
        }
      ]
    },
    {
      "cell_type": "code",
      "source": [
        "model.compile(optimizer=\"rmsprop\",\n",
        "  loss=keras.losses.BinaryFocalCrossentropy(),\n",
        "  metrics=[\"accuracy\"])"
      ],
      "metadata": {
        "id": "kakjSGyBdcrM"
      },
      "execution_count": null,
      "outputs": []
    },
    {
      "cell_type": "markdown",
      "source": [
        "## Treinamento do modelo"
      ],
      "metadata": {
        "id": "ZMfLyPh1dzcX"
      }
    },
    {
      "cell_type": "code",
      "source": [
        "history = model.fit(x_train_skin_data, y_train_skin_data, epochs=10, batch_size=512, validation_data=(x_val_skin_data, y_val_skin_data))"
      ],
      "metadata": {
        "colab": {
          "base_uri": "https://localhost:8080/"
        },
        "id": "VNgaU45kgwA1",
        "outputId": "6a60174b-d9e1-4b4b-842d-18913f25356f"
      },
      "execution_count": null,
      "outputs": [
        {
          "output_type": "stream",
          "name": "stdout",
          "text": [
            "Epoch 1/10\n",
            "364/364 [==============================] - 2s 3ms/step - loss: 0.0635 - accuracy: 0.8774 - val_loss: 0.0431 - val_accuracy: 0.9298\n",
            "Epoch 2/10\n",
            "364/364 [==============================] - 1s 2ms/step - loss: 0.0322 - accuracy: 0.9587 - val_loss: 0.0469 - val_accuracy: 0.9147\n",
            "Epoch 3/10\n",
            "364/364 [==============================] - 1s 2ms/step - loss: 0.0285 - accuracy: 0.9611 - val_loss: 0.0524 - val_accuracy: 0.9080\n",
            "Epoch 4/10\n",
            "364/364 [==============================] - 1s 2ms/step - loss: 0.0240 - accuracy: 0.9702 - val_loss: 0.0350 - val_accuracy: 0.9496\n",
            "Epoch 5/10\n",
            "364/364 [==============================] - 1s 2ms/step - loss: 0.0087 - accuracy: 0.9960 - val_loss: 3.4436 - val_accuracy: 0.9106\n",
            "Epoch 6/10\n",
            "364/364 [==============================] - 1s 2ms/step - loss: 0.0045 - accuracy: 0.9976 - val_loss: 7.3033 - val_accuracy: 0.8154\n",
            "Epoch 7/10\n",
            "364/364 [==============================] - 1s 2ms/step - loss: 0.0030 - accuracy: 0.9979 - val_loss: 16.9070 - val_accuracy: 0.7874\n",
            "Epoch 8/10\n",
            "364/364 [==============================] - 1s 2ms/step - loss: 0.0024 - accuracy: 0.9981 - val_loss: 26.6195 - val_accuracy: 0.7873\n",
            "Epoch 9/10\n",
            "364/364 [==============================] - 1s 2ms/step - loss: 0.0021 - accuracy: 0.9982 - val_loss: 23.0963 - val_accuracy: 0.7872\n",
            "Epoch 10/10\n",
            "364/364 [==============================] - 1s 2ms/step - loss: 0.0019 - accuracy: 0.9984 - val_loss: 18.2904 - val_accuracy: 0.7844\n"
          ]
        }
      ]
    },
    {
      "cell_type": "markdown",
      "source": [
        "## Estatísticas do modelo"
      ],
      "metadata": {
        "id": "8lw9DS4KlKif"
      }
    },
    {
      "cell_type": "markdown",
      "source": [
        "### Correlação entre variáveis"
      ],
      "metadata": {
        "id": "y0qL2c37mo8-"
      }
    },
    {
      "cell_type": "code",
      "source": [
        "plt.matshow(skin_data.corr())\n",
        "plt.xticks(range(skin_data.shape[1]), skin_data.columns, fontsize=12, rotation=90)\n",
        "plt.gca().xaxis.tick_bottom()\n",
        "plt.yticks(range(skin_data.shape[1]), skin_data.columns, fontsize=12)\n",
        "\n",
        "cb = plt.colorbar()\n",
        "cb.ax.tick_params(labelsize=14)\n",
        "plt.title(\"Feature Correlation Heatmap\", fontsize=12)\n",
        "plt.show()"
      ],
      "metadata": {
        "colab": {
          "base_uri": "https://localhost:8080/",
          "height": 280
        },
        "id": "ZJs7qJs4msZe",
        "outputId": "eb602084-9d17-4fd9-b6a9-961c7798e2c4"
      },
      "execution_count": null,
      "outputs": [
        {
          "output_type": "display_data",
          "data": {
            "text/plain": [
              "<Figure size 288x288 with 2 Axes>"
            ],
            "image/png": "[encoded data removed]"
          },
          "metadata": {
            "needs_background": "light"
          }
        }
      ]
    },
    {
      "cell_type": "markdown",
      "source": [
        "### Validation Loss"
      ],
      "metadata": {
        "id": "eLbVxg0EmJkT"
      }
    },
    {
      "cell_type": "code",
      "source": [
        "history_dict = history.history\n",
        "loss_values = history_dict[\"loss\"]\n",
        "val_loss_values = history_dict[\"val_loss\"]\n",
        "epochs = range(1, len(loss_values) + 1)\n",
        "plt.plot(epochs, loss_values, \"bo\", label=\"Training loss\")\n",
        "plt.plot(epochs, val_loss_values, \"b\", label=\"Validation loss\") \n",
        "plt.title(\"Training and validation loss\")\n",
        "plt.xlabel(\"Epochs\")\n",
        "plt.ylabel(\"Loss\")\n",
        "plt.legend()\n",
        "plt.show()"
      ],
      "metadata": {
        "colab": {
          "base_uri": "https://localhost:8080/",
          "height": 295
        },
        "id": "eI81U_f4lMgB",
        "outputId": "52fd2815-d0b5-4775-8627-868b4259a0ec"
      },
      "execution_count": null,
      "outputs": [
        {
          "output_type": "display_data",
          "data": {
            "text/plain": [
              "<Figure size 432x288 with 1 Axes>"
            ],
            "image/png": "[encoded data removed]"
          },
          "metadata": {
            "needs_background": "light"
          }
        }
      ]
    },
    {
      "cell_type": "markdown",
      "source": [
        "### Accuracy"
      ],
      "metadata": {
        "id": "mWEVjUYCmNGC"
      }
    },
    {
      "cell_type": "code",
      "source": [
        "plt.clf()\n",
        "acc = history_dict[\"accuracy\"]\n",
        "val_acc = history_dict[\"val_accuracy\"]\n",
        "plt.plot(epochs, acc, \"bo\", label=\"Training acc\")\n",
        "plt.plot(epochs, val_acc, \"b\", label=\"Validation acc\")\n",
        "plt.title(\"Training and validation accuracy\")\n",
        "plt.xlabel(\"Epochs\")\n",
        "plt.ylabel(\"Accuracy\")\n",
        "plt.legend()\n",
        "plt.show()"
      ],
      "metadata": {
        "colab": {
          "base_uri": "https://localhost:8080/",
          "height": 295
        },
        "id": "_Hn7TNpMmQIa",
        "outputId": "4613389e-56bb-4610-db9f-a56a07c44727"
      },
      "execution_count": null,
      "outputs": [
        {
          "output_type": "display_data",
          "data": {
            "text/plain": [
              "<Figure size 432x288 with 1 Axes>"
            ],
            "image/png": "[encoded data removed]"
          },
          "metadata": {
            "needs_background": "light"
          }
        }
      ]
    },
    {
      "cell_type": "markdown",
      "metadata": {
        "id": "EcJjLt62UarH"
      },
      "source": [
        "## Previsões"
      ]
    },
    {
      "cell_type": "code",
      "source": [
        "result = model.predict(x_test_skin_data)\n",
        "result = np.round(result)\n",
        "error_amount = 0\n",
        "for i in range(len(result)):\n",
        "  if result[i] != y_test_skin_data[i]:\n",
        "    print(result[i], '-', y_test_skin_data[i])\n",
        "    error_amount += 1\n",
        "print(\"Errors made: %d in %d\" % (error_amount, len(result)))"
      ],
      "metadata": {
        "colab": {
          "base_uri": "https://localhost:8080/"
        },
        "id": "QPwNU7XtrgfP",
        "outputId": "cc37b615-89a4-40b4-aa15-ddec6969a7e9"
      },
      "execution_count": null,
      "outputs": [
        {
          "output_type": "stream",
          "name": "stdout",
          "text": [
            "1456/1456 [==============================] - 2s 1ms/step\n",
            "[1.] - 0.0\n",
            "[1.] - 0.0\n",
            "[1.] - 0.0\n",
            "[1.] - 0.0\n",
            "[1.] - 0.0\n",
            "[1.] - 0.0\n",
            "[1.] - 0.0\n",
            "[1.] - 0.0\n",
            "[1.] - 0.0\n",
            "[1.] - 0.0\n",
            "[1.] - 0.0\n",
            "[0.] - 1.0\n",
            "[1.] - 0.0\n",
            "[1.] - 0.0\n",
            "[1.] - 0.0\n",
            "[1.] - 0.0\n",
            "[1.] - 0.0\n",
            "[1.] - 0.0\n",
            "[1.] - 0.0\n",
            "[1.] - 0.0\n",
            "[1.] - 0.0\n",
            "[1.] - 0.0\n",
            "[1.] - 0.0\n",
            "[0.] - 1.0\n",
            "[0.] - 1.0\n",
            "[1.] - 0.0\n",
            "[1.] - 0.0\n",
            "[0.] - 1.0\n",
            "[1.] - 0.0\n",
            "[1.] - 0.0\n",
            "[1.] - 0.0\n",
            "[0.] - 1.0\n",
            "[1.] - 0.0\n",
            "[1.] - 0.0\n",
            "[1.] - 0.0\n",
            "[1.] - 0.0\n",
            "[1.] - 0.0\n",
            "[1.] - 0.0\n",
            "[0.] - 1.0\n",
            "[1.] - 0.0\n",
            "[0.] - 1.0\n",
            "[0.] - 1.0\n",
            "[1.] - 0.0\n",
            "[1.] - 0.0\n",
            "[0.] - 1.0\n",
            "[1.] - 0.0\n",
            "[1.] - 0.0\n",
            "[0.] - 1.0\n",
            "[1.] - 0.0\n",
            "[1.] - 0.0\n",
            "[1.] - 0.0\n",
            "[1.] - 0.0\n",
            "[0.] - 1.0\n",
            "[1.] - 0.0\n",
            "[1.] - 0.0\n",
            "[0.] - 1.0\n",
            "[0.] - 1.0\n",
            "[1.] - 0.0\n",
            "[0.] - 1.0\n",
            "Errors made: 59 in 46561\n"
          ]
        }
      ]
    }
  ],
  "metadata": {
    "colab": {
      "provenance": [],
      "collapsed_sections": [],
      "toc_visible": true,
      "include_colab_link": true
    },
    "kernelspec": {
      "display_name": "Python 3",
      "name": "python3"
    },
    "language_info": {
      "name": "python"
    }
  },
  "nbformat": 4,
  "nbformat_minor": 0
}