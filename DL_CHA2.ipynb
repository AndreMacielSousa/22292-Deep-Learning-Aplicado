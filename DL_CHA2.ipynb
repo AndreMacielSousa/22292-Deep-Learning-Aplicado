{
  "nbformat": 4,
  "nbformat_minor": 0,
  "metadata": {
    "colab": {
      "provenance": [],
      "authorship_tag": "ABX9TyMf4gYlRVcDiscHsGiBzBGd",
      "include_colab_link": true
    },
    "kernelspec": {
      "name": "python3",
      "display_name": "Python 3"
    },
    "language_info": {
      "name": "python"
    }
  },
  "cells": [
    {
      "cell_type": "markdown",
      "metadata": {
        "id": "view-in-github",
        "colab_type": "text"
      },
      "source": [
        "<a href=\"https://colab.research.google.com/github/AndreMacielSousa/22292-Deep-Learning-Aplicado/blob/main/DL_CHA2.ipynb\" target=\"_parent\"><img src=\"https://colab.research.google.com/assets/colab-badge.svg\" alt=\"Open In Colab\"/></a>"
      ]
    },
    {
      "cell_type": "markdown",
      "source": [
        "Listing 2.1"
      ],
      "metadata": {
        "id": "-zqAbr9HH8Rz"
      }
    },
    {
      "cell_type": "markdown",
      "source": [
        "\n",
        "**Deep Learning SIMPLIFIED**\n",
        "\n",
        "https://www.youtube.com/watch?v=EzbGiB_6TSI&list=PLjJh1vlSEYgvGod9wWiydumYl8hOXixNu&index=13&ab_channel=DeepLearning.TV\n",
        "\n",
        "\n"
      ],
      "metadata": {
        "id": "3hnGzrqK2nJl"
      }
    },
    {
      "cell_type": "code",
      "execution_count": null,
      "metadata": {
        "colab": {
          "base_uri": "https://localhost:8080/"
        },
        "id": "eS7LY3B2GMRR",
        "outputId": "ddff01d1-edb1-49f2-8ddf-56ece966c1a7"
      },
      "outputs": [
        {
          "output_type": "stream",
          "name": "stdout",
          "text": [
            "Downloading data from https://storage.googleapis.com/tensorflow/tf-keras-datasets/mnist.npz\n",
            "11490434/11490434 [==============================] - 0s 0us/step\n"
          ]
        }
      ],
      "source": [
        "from tensorflow.keras.datasets import mnist\n",
        "(train_images, train_labels), (test_images, test_labels) = mnist.load_data()"
      ]
    },
    {
      "cell_type": "code",
      "source": [
        "train_images.shape"
      ],
      "metadata": {
        "colab": {
          "base_uri": "https://localhost:8080/"
        },
        "id": "LeL3glMhHDhV",
        "outputId": "a7361849-2d50-4c9f-e8e1-e47dfe4ceee8"
      },
      "execution_count": null,
      "outputs": [
        {
          "output_type": "execute_result",
          "data": {
            "text/plain": [
              "(60000, 28, 28)"
            ]
          },
          "metadata": {},
          "execution_count": 2
        }
      ]
    },
    {
      "cell_type": "code",
      "source": [
        "len(train_labels)"
      ],
      "metadata": {
        "colab": {
          "base_uri": "https://localhost:8080/"
        },
        "id": "rrHlLMmhHOBk",
        "outputId": "a5fbf594-9f45-49d2-d1ed-e913df16292f"
      },
      "execution_count": null,
      "outputs": [
        {
          "output_type": "execute_result",
          "data": {
            "text/plain": [
              "60000"
            ]
          },
          "metadata": {},
          "execution_count": 3
        }
      ]
    },
    {
      "cell_type": "code",
      "source": [
        "train_labels"
      ],
      "metadata": {
        "colab": {
          "base_uri": "https://localhost:8080/"
        },
        "id": "lw7f5RF2HSDk",
        "outputId": "c66deff1-f875-434e-9713-35a6b349026b"
      },
      "execution_count": null,
      "outputs": [
        {
          "output_type": "execute_result",
          "data": {
            "text/plain": [
              "array([5, 0, 4, ..., 5, 6, 8], dtype=uint8)"
            ]
          },
          "metadata": {},
          "execution_count": 4
        }
      ]
    },
    {
      "cell_type": "code",
      "source": [
        " test_images.shape"
      ],
      "metadata": {
        "colab": {
          "base_uri": "https://localhost:8080/"
        },
        "id": "ebb6tBAOHcVK",
        "outputId": "ba975fa4-b1f9-4bee-871a-3ee9c89ceba6"
      },
      "execution_count": null,
      "outputs": [
        {
          "output_type": "execute_result",
          "data": {
            "text/plain": [
              "(10000, 28, 28)"
            ]
          },
          "metadata": {},
          "execution_count": 5
        }
      ]
    },
    {
      "cell_type": "code",
      "source": [
        "len(test_labels)"
      ],
      "metadata": {
        "colab": {
          "base_uri": "https://localhost:8080/"
        },
        "id": "uhCYVYpPHhD8",
        "outputId": "5d5f0389-8f07-4722-b4f4-a7050526beda"
      },
      "execution_count": null,
      "outputs": [
        {
          "output_type": "execute_result",
          "data": {
            "text/plain": [
              "10000"
            ]
          },
          "metadata": {},
          "execution_count": 7
        }
      ]
    },
    {
      "cell_type": "code",
      "source": [
        "test_labels"
      ],
      "metadata": {
        "colab": {
          "base_uri": "https://localhost:8080/"
        },
        "id": "_n53q1LvHklD",
        "outputId": "acbe7982-d487-48ea-d68d-7abfc8a193e9"
      },
      "execution_count": null,
      "outputs": [
        {
          "output_type": "execute_result",
          "data": {
            "text/plain": [
              "array([7, 2, 1, ..., 4, 5, 6], dtype=uint8)"
            ]
          },
          "metadata": {},
          "execution_count": 8
        }
      ]
    },
    {
      "cell_type": "markdown",
      "source": [
        "Listing 2.2"
      ],
      "metadata": {
        "id": "_dcJMElbIG0b"
      }
    },
    {
      "cell_type": "code",
      "source": [
        "from tensorflow import keras \n",
        "from tensorflow.keras import layers\n",
        "model = keras.Sequential([\n",
        " layers.Dense(512, activation=\"relu\"),\n",
        " layers.Dense(10, activation=\"softmax\")\n",
        "])"
      ],
      "metadata": {
        "id": "Rn7IsTm3II-O"
      },
      "execution_count": null,
      "outputs": []
    },
    {
      "cell_type": "markdown",
      "source": [
        " To make the model ready for training, we need to pick three more things as part of\n",
        "the compilation step:\n",
        " An optimizer—The mechanism through which the model will update itself based\n",
        "on the training data it sees, so as to improve its performance.\n",
        " A loss function—How the model will be able to measure its performance on the\n",
        "training data, and thus how it will be able to steer itself in the right direction.\n",
        " Metrics to monitor during training and testing—Here, we’ll only care about accu\u0002racy (the fraction of the images that were correctly classified)."
      ],
      "metadata": {
        "id": "2PYxmVr2IbD8"
      }
    },
    {
      "cell_type": "code",
      "source": [
        "model.compile(optimizer=\"rmsprop\",\n",
        " loss=\"sparse_categorical_crossentropy\",\n",
        " metrics=[\"accuracy\"])"
      ],
      "metadata": {
        "id": "I_zyrtdjIcFt"
      },
      "execution_count": null,
      "outputs": []
    },
    {
      "cell_type": "code",
      "source": [
        "train_images = train_images.reshape((60000, 28 * 28))\n",
        "train_images = train_images.astype(\"float32\") / 255\n",
        "test_images = test_images.reshape((10000, 28 * 28))\n",
        "test_images = test_images.astype(\"float32\") / 255"
      ],
      "metadata": {
        "id": "PErnG3BJIh0e"
      },
      "execution_count": null,
      "outputs": []
    },
    {
      "cell_type": "code",
      "source": [
        " model.fit(train_images, train_labels, epochs=5, batch_size=128)"
      ],
      "metadata": {
        "colab": {
          "base_uri": "https://localhost:8080/"
        },
        "id": "wqSuCbdtImi2",
        "outputId": "1a601df2-97c9-41ec-9751-83629f26b2ed"
      },
      "execution_count": null,
      "outputs": [
        {
          "output_type": "stream",
          "name": "stdout",
          "text": [
            "Epoch 1/5\n",
            "469/469 [==============================] - 4s 8ms/step - loss: 0.2580 - accuracy: 0.9249\n",
            "Epoch 2/5\n",
            "469/469 [==============================] - 3s 7ms/step - loss: 0.1015 - accuracy: 0.9696\n",
            "Epoch 3/5\n",
            "469/469 [==============================] - 3s 7ms/step - loss: 0.0664 - accuracy: 0.9803\n",
            "Epoch 4/5\n",
            "469/469 [==============================] - 3s 7ms/step - loss: 0.0486 - accuracy: 0.9853\n",
            "Epoch 5/5\n",
            "469/469 [==============================] - 4s 8ms/step - loss: 0.0376 - accuracy: 0.9890\n"
          ]
        },
        {
          "output_type": "execute_result",
          "data": {
            "text/plain": [
              "<keras.callbacks.History at 0x7fe0fa39ecd0>"
            ]
          },
          "metadata": {},
          "execution_count": 13
        }
      ]
    },
    {
      "cell_type": "code",
      "source": [
        "test_digits = test_images[0:10]\n",
        "predictions = model.predict(test_digits)\n",
        "predictions[0]"
      ],
      "metadata": {
        "colab": {
          "base_uri": "https://localhost:8080/"
        },
        "id": "dxHrsrdkIzFy",
        "outputId": "8132c23b-7e9d-4dff-8b7b-ddd458240090"
      },
      "execution_count": null,
      "outputs": [
        {
          "output_type": "stream",
          "name": "stdout",
          "text": [
            "1/1 [==============================] - 0s 55ms/step\n"
          ]
        },
        {
          "output_type": "execute_result",
          "data": {
            "text/plain": [
              "array([3.7600337e-08, 1.3209323e-10, 5.6462077e-06, 3.5292951e-06,\n",
              "       1.9878446e-12, 2.4578700e-08, 8.2524482e-14, 9.9999005e-01,\n",
              "       6.3662263e-08, 5.8889674e-07], dtype=float32)"
            ]
          },
          "metadata": {},
          "execution_count": 14
        }
      ]
    },
    {
      "cell_type": "code",
      "source": [
        "test_loss, test_acc = model.evaluate(test_images, test_labels)\n",
        "print(f\"test_acc: {test_acc}\")"
      ],
      "metadata": {
        "colab": {
          "base_uri": "https://localhost:8080/"
        },
        "id": "Ug1fw2t7JCql",
        "outputId": "571ddab2-91ce-47a8-fc75-9f8e7c4fd29f"
      },
      "execution_count": null,
      "outputs": [
        {
          "output_type": "stream",
          "name": "stdout",
          "text": [
            "313/313 [==============================] - 1s 2ms/step - loss: 0.0648 - accuracy: 0.9801\n",
            "test_acc: 0.9800999760627747\n"
          ]
        }
      ]
    },
    {
      "cell_type": "markdown",
      "source": [
        "This concludes our first example—you just saw how you can build and train a\n",
        "neural network to classify handwritten digits in less than 15 lines of Python code. In\n",
        "this chapter and the next, we’ll go into detail about every moving piece we just pre\u0002viewed and clarify what’s going on behind the scenes. You’ll learn about tensors,\n",
        "the data-storing objects going into the model; tensor operations, which layers are\n",
        "made of; and gradient descent, which allows your model to learn from its training\n",
        "examples."
      ],
      "metadata": {
        "id": "m_NGK_rKJU30"
      }
    },
    {
      "cell_type": "code",
      "source": [
        "import numpy as np\n",
        "x = np.array([[5, 78, 2, 34, 0],\n",
        "              [6, 79, 3, 35, 1],\n",
        "              [7, 80, 4, 36, 2]])\n",
        "x.ndim"
      ],
      "metadata": {
        "colab": {
          "base_uri": "https://localhost:8080/"
        },
        "id": "xTLnadqyL9UM",
        "outputId": "8b4db808-21c1-473a-f317-74367fff9922"
      },
      "execution_count": null,
      "outputs": [
        {
          "output_type": "execute_result",
          "data": {
            "text/plain": [
              "2"
            ]
          },
          "metadata": {},
          "execution_count": 28
        }
      ]
    },
    {
      "cell_type": "code",
      "source": [
        "from tensorflow.keras.datasets import mnist\n",
        "(train_images, train_labels), (test_images, test_labels) = mnist.load_data()\n",
        "\n",
        "import matplotlib.pyplot as plt\n",
        "digit = train_images[4]\n",
        "plt.imshow(digit, cmap=plt.cm.binary)\n",
        "plt.show()\n",
        "\n",
        "print(\"\\nteste =\", train_labels[4])"
      ],
      "metadata": {
        "colab": {
          "base_uri": "https://localhost:8080/",
          "height": 300
        },
        "id": "qgbLQArsOXin",
        "outputId": "c17c29b1-8b5a-41b3-db84-9cca103153de"
      },
      "execution_count": null,
      "outputs": [
        {
          "output_type": "display_data",
          "data": {
            "text/plain": [
              "<Figure size 432x288 with 1 Axes>"
            ],
            "image/png": "[encoded data removed]"
          },
          "metadata": {
            "needs_background": "light"
          }
        },
        {
          "output_type": "stream",
          "name": "stdout",
          "text": [
            "\n",
            "teste = 9\n"
          ]
        }
      ]
    },
    {
      "cell_type": "code",
      "source": [
        "my_slice = train_images[10:100]\n",
        "my_slice.shape"
      ],
      "metadata": {
        "colab": {
          "base_uri": "https://localhost:8080/"
        },
        "id": "rQ-Q4JY5R3r3",
        "outputId": "99ea24ae-4cc9-4226-d505-ae9d441abad7"
      },
      "execution_count": null,
      "outputs": [
        {
          "output_type": "execute_result",
          "data": {
            "text/plain": [
              "(90, 28, 28)"
            ]
          },
          "metadata": {},
          "execution_count": 37
        }
      ]
    },
    {
      "cell_type": "markdown",
      "source": [
        "2.2.8 Real-world examples of data tensors\n",
        "Let’s make data tensors more concrete with a few examples similar to what you’ll\n",
        "encounter later. The data you’ll manipulate will almost always fall into one of the following categories:\n",
        "* Vector data—Rank-2 tensors of shape (samples, features), where each sample\n",
        "is a vector of numerical attributes (“features”)\n",
        "* Timeseries data or sequence data—Rank-3 tensors of shape (samples, timesteps,\n",
        "features), where each sample is a sequence (of length timesteps) of feature\n",
        "vectors\n",
        "* Images—Rank-4 tensors of shape (samples, height, width, channels), where\n",
        "each sample is a 2D grid of pixels, and each pixel is represented by a vector of\n",
        "values (“channels”)\n",
        "* Video—Rank-5 tensors of shape (samples, frames, height, width, channels),\n",
        "where each sample is a sequence (of length frames) of images"
      ],
      "metadata": {
        "id": "eQO_H7mWSSne"
      }
    },
    {
      "cell_type": "code",
      "source": [
        "import time\n",
        "x = np.random.random((20, 100))\n",
        "y = np.random.random((20, 100))\n",
        "t0 = time.time() \n",
        "for _ in range(1000):\n",
        " z = x + y\n",
        " z = np.maximum(z, 0.) \n",
        "print(\"Took: {0:.2f} s\".format(time.time() - t0))"
      ],
      "metadata": {
        "colab": {
          "base_uri": "https://localhost:8080/"
        },
        "id": "iK5d8YoETPgP",
        "outputId": "3b611203-ee3c-491f-e39e-0baa15c58f11"
      },
      "execution_count": null,
      "outputs": [
        {
          "output_type": "stream",
          "name": "stdout",
          "text": [
            "Took: 0.01 s\n"
          ]
        }
      ]
    },
    {
      "cell_type": "markdown",
      "source": [
        "Reshaping a tensor means rearranging its rows and columns to match a target shape.\n",
        "Naturally, the reshaped tensor has the same total number of coefficients as the initial\n",
        "tensor. Reshaping is best understood via simple examples:"
      ],
      "metadata": {
        "id": "pCRLnG5PWVMx"
      }
    },
    {
      "cell_type": "code",
      "source": [
        "x = np.array([[0., 1.],\n",
        " [2., 3.],\n",
        " [4., 5.]])"
      ],
      "metadata": {
        "id": "KKZYuyjAWWA4"
      },
      "execution_count": null,
      "outputs": []
    },
    {
      "cell_type": "code",
      "source": [
        " x.shape"
      ],
      "metadata": {
        "colab": {
          "base_uri": "https://localhost:8080/"
        },
        "id": "nhQQy65cWZfo",
        "outputId": "5be35aa8-19b8-4cbe-a5b0-35100a79085d"
      },
      "execution_count": null,
      "outputs": [
        {
          "output_type": "execute_result",
          "data": {
            "text/plain": [
              "(3, 2)"
            ]
          },
          "metadata": {},
          "execution_count": 44
        }
      ]
    },
    {
      "cell_type": "code",
      "source": [
        "x = x.reshape((6, 1))"
      ],
      "metadata": {
        "id": "yTvQTuxWWcXT"
      },
      "execution_count": null,
      "outputs": []
    },
    {
      "cell_type": "code",
      "source": [
        "x"
      ],
      "metadata": {
        "colab": {
          "base_uri": "https://localhost:8080/"
        },
        "id": "XMpi_nczWc9O",
        "outputId": "3af596eb-4662-4ca4-b12a-466ead3ad2a8"
      },
      "execution_count": null,
      "outputs": [
        {
          "output_type": "execute_result",
          "data": {
            "text/plain": [
              "array([[0.],\n",
              "       [1.],\n",
              "       [2.],\n",
              "       [3.],\n",
              "       [4.],\n",
              "       [5.]])"
            ]
          },
          "metadata": {},
          "execution_count": 46
        }
      ]
    },
    {
      "cell_type": "code",
      "source": [
        "x = x.reshape((2, 3))\n",
        "x"
      ],
      "metadata": {
        "colab": {
          "base_uri": "https://localhost:8080/"
        },
        "id": "MPCxxXP8WgE8",
        "outputId": "6bdc4240-5451-465e-db3d-284c6a84f8b3"
      },
      "execution_count": null,
      "outputs": [
        {
          "output_type": "execute_result",
          "data": {
            "text/plain": [
              "array([[0., 1., 2.],\n",
              "       [3., 4., 5.]])"
            ]
          },
          "metadata": {},
          "execution_count": 49
        }
      ]
    },
    {
      "cell_type": "markdown",
      "source": [
        "A special case of reshaping that’s commonly encountered is transposition. Transposing a\n",
        "matrix means exchanging its rows and its columns, so that x[i, :] becomes x[:, i]:"
      ],
      "metadata": {
        "id": "-IFFNr4EWuuY"
      }
    },
    {
      "cell_type": "code",
      "source": [
        "x = np.zeros((300, 20))\n",
        "x = np.transpose(x)\n",
        "x.shape"
      ],
      "metadata": {
        "id": "28bSs0v7Ww-o",
        "outputId": "a675dc63-0924-4518-da9b-b0f87c284092",
        "colab": {
          "base_uri": "https://localhost:8080/"
        }
      },
      "execution_count": null,
      "outputs": [
        {
          "output_type": "execute_result",
          "data": {
            "text/plain": [
              "(20, 300)"
            ]
          },
          "metadata": {},
          "execution_count": 51
        }
      ]
    }
  ]
}